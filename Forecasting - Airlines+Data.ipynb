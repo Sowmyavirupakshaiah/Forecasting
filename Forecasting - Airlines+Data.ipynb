{
 "cells": [
  {
   "cell_type": "code",
   "execution_count": 1,
   "id": "253430e4",
   "metadata": {},
   "outputs": [],
   "source": [
    "# load libraries\n",
    "import pandas as pd\n",
    "import matplotlib.pyplot as plt\n",
    "import numpy as np\n",
    "import seaborn as sns"
   ]
  },
  {
   "cell_type": "code",
   "execution_count": 3,
   "id": "2a4391b3",
   "metadata": {},
   "outputs": [
    {
     "data": {
      "text/html": [
       "<div>\n",
       "<style scoped>\n",
       "    .dataframe tbody tr th:only-of-type {\n",
       "        vertical-align: middle;\n",
       "    }\n",
       "\n",
       "    .dataframe tbody tr th {\n",
       "        vertical-align: top;\n",
       "    }\n",
       "\n",
       "    .dataframe thead th {\n",
       "        text-align: right;\n",
       "    }\n",
       "</style>\n",
       "<table border=\"1\" class=\"dataframe\">\n",
       "  <thead>\n",
       "    <tr style=\"text-align: right;\">\n",
       "      <th></th>\n",
       "      <th>Month</th>\n",
       "      <th>Passengers</th>\n",
       "    </tr>\n",
       "  </thead>\n",
       "  <tbody>\n",
       "    <tr>\n",
       "      <th>0</th>\n",
       "      <td>1995-01-01</td>\n",
       "      <td>112</td>\n",
       "    </tr>\n",
       "    <tr>\n",
       "      <th>1</th>\n",
       "      <td>1995-02-01</td>\n",
       "      <td>118</td>\n",
       "    </tr>\n",
       "    <tr>\n",
       "      <th>2</th>\n",
       "      <td>1995-03-01</td>\n",
       "      <td>132</td>\n",
       "    </tr>\n",
       "    <tr>\n",
       "      <th>3</th>\n",
       "      <td>1995-04-01</td>\n",
       "      <td>129</td>\n",
       "    </tr>\n",
       "    <tr>\n",
       "      <th>4</th>\n",
       "      <td>1995-05-01</td>\n",
       "      <td>121</td>\n",
       "    </tr>\n",
       "  </tbody>\n",
       "</table>\n",
       "</div>"
      ],
      "text/plain": [
       "       Month  Passengers\n",
       "0 1995-01-01         112\n",
       "1 1995-02-01         118\n",
       "2 1995-03-01         132\n",
       "3 1995-04-01         129\n",
       "4 1995-05-01         121"
      ]
     },
     "execution_count": 3,
     "metadata": {},
     "output_type": "execute_result"
    }
   ],
   "source": [
    "# Import dataset\n",
    "airline = pd.read_excel('Airlines+Data.xlsx')\n",
    "airline.head()"
   ]
  },
  {
   "cell_type": "code",
   "execution_count": 4,
   "id": "a745e8ef",
   "metadata": {},
   "outputs": [
    {
     "data": {
      "text/plain": [
       "Month         0\n",
       "Passengers    0\n",
       "dtype: int64"
      ]
     },
     "execution_count": 4,
     "metadata": {},
     "output_type": "execute_result"
    }
   ],
   "source": [
    "airline.isna().sum()"
   ]
  },
  {
   "cell_type": "code",
   "execution_count": 5,
   "id": "5e469427",
   "metadata": {},
   "outputs": [
    {
     "name": "stdout",
     "output_type": "stream",
     "text": [
      "<class 'pandas.core.frame.DataFrame'>\n",
      "RangeIndex: 96 entries, 0 to 95\n",
      "Data columns (total 2 columns):\n",
      " #   Column      Non-Null Count  Dtype         \n",
      "---  ------      --------------  -----         \n",
      " 0   Month       96 non-null     datetime64[ns]\n",
      " 1   Passengers  96 non-null     int64         \n",
      "dtypes: datetime64[ns](1), int64(1)\n",
      "memory usage: 1.6 KB\n"
     ]
    }
   ],
   "source": [
    "airline.info()"
   ]
  },
  {
   "cell_type": "code",
   "execution_count": 6,
   "id": "4105f232",
   "metadata": {},
   "outputs": [
    {
     "data": {
      "text/plain": [
       "array(['1995-01-01T00:00:00.000000000', '1995-02-01T00:00:00.000000000',\n",
       "       '1995-03-01T00:00:00.000000000', '1995-04-01T00:00:00.000000000',\n",
       "       '1995-05-01T00:00:00.000000000', '1995-06-01T00:00:00.000000000',\n",
       "       '1995-07-01T00:00:00.000000000', '1995-08-01T00:00:00.000000000',\n",
       "       '1995-09-01T00:00:00.000000000', '1995-10-01T00:00:00.000000000',\n",
       "       '1995-11-01T00:00:00.000000000', '1995-12-01T00:00:00.000000000',\n",
       "       '1996-01-01T00:00:00.000000000', '1996-02-01T00:00:00.000000000',\n",
       "       '1996-03-01T00:00:00.000000000', '1996-04-01T00:00:00.000000000',\n",
       "       '1996-05-01T00:00:00.000000000', '1996-06-01T00:00:00.000000000',\n",
       "       '1996-07-01T00:00:00.000000000', '1996-08-01T00:00:00.000000000',\n",
       "       '1996-09-01T00:00:00.000000000', '1996-10-01T00:00:00.000000000',\n",
       "       '1996-11-01T00:00:00.000000000', '1996-12-01T00:00:00.000000000',\n",
       "       '1997-01-01T00:00:00.000000000', '1997-02-01T00:00:00.000000000',\n",
       "       '1997-03-01T00:00:00.000000000', '1997-04-01T00:00:00.000000000',\n",
       "       '1997-05-01T00:00:00.000000000', '1997-06-01T00:00:00.000000000',\n",
       "       '1997-07-01T00:00:00.000000000', '1997-08-01T00:00:00.000000000',\n",
       "       '1997-09-01T00:00:00.000000000', '1997-10-01T00:00:00.000000000',\n",
       "       '1997-11-01T00:00:00.000000000', '1997-12-01T00:00:00.000000000',\n",
       "       '1998-01-01T00:00:00.000000000', '1998-02-01T00:00:00.000000000',\n",
       "       '1998-03-01T00:00:00.000000000', '1998-04-01T00:00:00.000000000',\n",
       "       '1998-05-01T00:00:00.000000000', '1998-06-01T00:00:00.000000000',\n",
       "       '1998-07-01T00:00:00.000000000', '1998-08-01T00:00:00.000000000',\n",
       "       '1998-09-01T00:00:00.000000000', '1998-10-01T00:00:00.000000000',\n",
       "       '1998-11-01T00:00:00.000000000', '1998-12-01T00:00:00.000000000',\n",
       "       '1999-01-01T00:00:00.000000000', '1999-02-01T00:00:00.000000000',\n",
       "       '1999-03-01T00:00:00.000000000', '1999-04-01T00:00:00.000000000',\n",
       "       '1999-05-01T00:00:00.000000000', '1999-06-01T00:00:00.000000000',\n",
       "       '1999-07-01T00:00:00.000000000', '1999-08-01T00:00:00.000000000',\n",
       "       '1999-09-01T00:00:00.000000000', '1999-10-01T00:00:00.000000000',\n",
       "       '1999-11-01T00:00:00.000000000', '1999-12-01T00:00:00.000000000',\n",
       "       '2000-01-01T00:00:00.000000000', '2000-02-01T00:00:00.000000000',\n",
       "       '2000-03-01T00:00:00.000000000', '2000-04-01T00:00:00.000000000',\n",
       "       '2000-05-01T00:00:00.000000000', '2000-06-01T00:00:00.000000000',\n",
       "       '2000-07-01T00:00:00.000000000', '2000-08-01T00:00:00.000000000',\n",
       "       '2000-09-01T00:00:00.000000000', '2000-10-01T00:00:00.000000000',\n",
       "       '2000-11-01T00:00:00.000000000', '2000-12-01T00:00:00.000000000',\n",
       "       '2001-01-01T00:00:00.000000000', '2001-02-01T00:00:00.000000000',\n",
       "       '2001-03-01T00:00:00.000000000', '2001-04-01T00:00:00.000000000',\n",
       "       '2001-05-01T00:00:00.000000000', '2001-06-01T00:00:00.000000000',\n",
       "       '2001-07-01T00:00:00.000000000', '2001-08-01T00:00:00.000000000',\n",
       "       '2001-09-01T00:00:00.000000000', '2001-10-01T00:00:00.000000000',\n",
       "       '2001-11-01T00:00:00.000000000', '2001-12-01T00:00:00.000000000',\n",
       "       '2002-01-01T00:00:00.000000000', '2002-02-01T00:00:00.000000000',\n",
       "       '2002-03-01T00:00:00.000000000', '2002-04-01T00:00:00.000000000',\n",
       "       '2002-05-01T00:00:00.000000000', '2002-06-01T00:00:00.000000000',\n",
       "       '2002-07-01T00:00:00.000000000', '2002-08-01T00:00:00.000000000',\n",
       "       '2002-09-01T00:00:00.000000000', '2002-10-01T00:00:00.000000000',\n",
       "       '2002-11-01T00:00:00.000000000', '2002-12-01T00:00:00.000000000'],\n",
       "      dtype='datetime64[ns]')"
      ]
     },
     "execution_count": 6,
     "metadata": {},
     "output_type": "execute_result"
    }
   ],
   "source": [
    "airline['Month'].unique()"
   ]
  },
  {
   "cell_type": "code",
   "execution_count": 7,
   "id": "5ca74ae1",
   "metadata": {},
   "outputs": [
    {
     "data": {
      "text/html": [
       "<div>\n",
       "<style scoped>\n",
       "    .dataframe tbody tr th:only-of-type {\n",
       "        vertical-align: middle;\n",
       "    }\n",
       "\n",
       "    .dataframe tbody tr th {\n",
       "        vertical-align: top;\n",
       "    }\n",
       "\n",
       "    .dataframe thead th {\n",
       "        text-align: right;\n",
       "    }\n",
       "</style>\n",
       "<table border=\"1\" class=\"dataframe\">\n",
       "  <thead>\n",
       "    <tr style=\"text-align: right;\">\n",
       "      <th></th>\n",
       "      <th>Passengers</th>\n",
       "    </tr>\n",
       "  </thead>\n",
       "  <tbody>\n",
       "    <tr>\n",
       "      <th>count</th>\n",
       "      <td>96.000000</td>\n",
       "    </tr>\n",
       "    <tr>\n",
       "      <th>mean</th>\n",
       "      <td>213.708333</td>\n",
       "    </tr>\n",
       "    <tr>\n",
       "      <th>std</th>\n",
       "      <td>71.918216</td>\n",
       "    </tr>\n",
       "    <tr>\n",
       "      <th>min</th>\n",
       "      <td>104.000000</td>\n",
       "    </tr>\n",
       "    <tr>\n",
       "      <th>25%</th>\n",
       "      <td>156.000000</td>\n",
       "    </tr>\n",
       "    <tr>\n",
       "      <th>50%</th>\n",
       "      <td>200.000000</td>\n",
       "    </tr>\n",
       "    <tr>\n",
       "      <th>75%</th>\n",
       "      <td>264.750000</td>\n",
       "    </tr>\n",
       "    <tr>\n",
       "      <th>max</th>\n",
       "      <td>413.000000</td>\n",
       "    </tr>\n",
       "  </tbody>\n",
       "</table>\n",
       "</div>"
      ],
      "text/plain": [
       "       Passengers\n",
       "count   96.000000\n",
       "mean   213.708333\n",
       "std     71.918216\n",
       "min    104.000000\n",
       "25%    156.000000\n",
       "50%    200.000000\n",
       "75%    264.750000\n",
       "max    413.000000"
      ]
     },
     "execution_count": 7,
     "metadata": {},
     "output_type": "execute_result"
    }
   ],
   "source": [
    "airline.describe()"
   ]
  },
  {
   "cell_type": "code",
   "execution_count": 8,
   "id": "441b0873",
   "metadata": {},
   "outputs": [
    {
     "data": {
      "text/plain": [
       "<AxesSubplot:>"
      ]
     },
     "execution_count": 8,
     "metadata": {},
     "output_type": "execute_result"
    },
    {
     "data": {
      "image/png": "[encoded data removed]",
      "text/plain": [
       "<Figure size 432x288 with 1 Axes>"
      ]
     },
     "metadata": {
      "needs_background": "light"
     },
     "output_type": "display_data"
    }
   ],
   "source": [
    "airline.Passengers.plot()"
   ]
  },
  {
   "cell_type": "code",
   "execution_count": 9,
   "id": "104dbbf6",
   "metadata": {},
   "outputs": [],
   "source": [
    "airline['Date']= pd.to_datetime(airline.Month,format='%b-%y')\n",
    "airline['Months']= airline.Date.dt.strftime('%b')\n",
    "airline['Year'] = airline.Date.dt.strftime('%Y')"
   ]
  },
  {
   "cell_type": "code",
   "execution_count": 10,
   "id": "ae215399",
   "metadata": {},
   "outputs": [
    {
     "data": {
      "text/html": [
       "<div>\n",
       "<style scoped>\n",
       "    .dataframe tbody tr th:only-of-type {\n",
       "        vertical-align: middle;\n",
       "    }\n",
       "\n",
       "    .dataframe tbody tr th {\n",
       "        vertical-align: top;\n",
       "    }\n",
       "\n",
       "    .dataframe thead th {\n",
       "        text-align: right;\n",
       "    }\n",
       "</style>\n",
       "<table border=\"1\" class=\"dataframe\">\n",
       "  <thead>\n",
       "    <tr style=\"text-align: right;\">\n",
       "      <th></th>\n",
       "      <th>Month</th>\n",
       "      <th>Passengers</th>\n",
       "      <th>Date</th>\n",
       "      <th>Months</th>\n",
       "      <th>Year</th>\n",
       "    </tr>\n",
       "  </thead>\n",
       "  <tbody>\n",
       "    <tr>\n",
       "      <th>0</th>\n",
       "      <td>1995-01-01</td>\n",
       "      <td>112</td>\n",
       "      <td>1995-01-01</td>\n",
       "      <td>Jan</td>\n",
       "      <td>1995</td>\n",
       "    </tr>\n",
       "    <tr>\n",
       "      <th>1</th>\n",
       "      <td>1995-02-01</td>\n",
       "      <td>118</td>\n",
       "      <td>1995-02-01</td>\n",
       "      <td>Feb</td>\n",
       "      <td>1995</td>\n",
       "    </tr>\n",
       "    <tr>\n",
       "      <th>2</th>\n",
       "      <td>1995-03-01</td>\n",
       "      <td>132</td>\n",
       "      <td>1995-03-01</td>\n",
       "      <td>Mar</td>\n",
       "      <td>1995</td>\n",
       "    </tr>\n",
       "    <tr>\n",
       "      <th>3</th>\n",
       "      <td>1995-04-01</td>\n",
       "      <td>129</td>\n",
       "      <td>1995-04-01</td>\n",
       "      <td>Apr</td>\n",
       "      <td>1995</td>\n",
       "    </tr>\n",
       "    <tr>\n",
       "      <th>4</th>\n",
       "      <td>1995-05-01</td>\n",
       "      <td>121</td>\n",
       "      <td>1995-05-01</td>\n",
       "      <td>May</td>\n",
       "      <td>1995</td>\n",
       "    </tr>\n",
       "    <tr>\n",
       "      <th>...</th>\n",
       "      <td>...</td>\n",
       "      <td>...</td>\n",
       "      <td>...</td>\n",
       "      <td>...</td>\n",
       "      <td>...</td>\n",
       "    </tr>\n",
       "    <tr>\n",
       "      <th>91</th>\n",
       "      <td>2002-08-01</td>\n",
       "      <td>405</td>\n",
       "      <td>2002-08-01</td>\n",
       "      <td>Aug</td>\n",
       "      <td>2002</td>\n",
       "    </tr>\n",
       "    <tr>\n",
       "      <th>92</th>\n",
       "      <td>2002-09-01</td>\n",
       "      <td>355</td>\n",
       "      <td>2002-09-01</td>\n",
       "      <td>Sep</td>\n",
       "      <td>2002</td>\n",
       "    </tr>\n",
       "    <tr>\n",
       "      <th>93</th>\n",
       "      <td>2002-10-01</td>\n",
       "      <td>306</td>\n",
       "      <td>2002-10-01</td>\n",
       "      <td>Oct</td>\n",
       "      <td>2002</td>\n",
       "    </tr>\n",
       "    <tr>\n",
       "      <th>94</th>\n",
       "      <td>2002-11-01</td>\n",
       "      <td>271</td>\n",
       "      <td>2002-11-01</td>\n",
       "      <td>Nov</td>\n",
       "      <td>2002</td>\n",
       "    </tr>\n",
       "    <tr>\n",
       "      <th>95</th>\n",
       "      <td>2002-12-01</td>\n",
       "      <td>306</td>\n",
       "      <td>2002-12-01</td>\n",
       "      <td>Dec</td>\n",
       "      <td>2002</td>\n",
       "    </tr>\n",
       "  </tbody>\n",
       "</table>\n",
       "<p>96 rows × 5 columns</p>\n",
       "</div>"
      ],
      "text/plain": [
       "        Month  Passengers       Date Months  Year\n",
       "0  1995-01-01         112 1995-01-01    Jan  1995\n",
       "1  1995-02-01         118 1995-02-01    Feb  1995\n",
       "2  1995-03-01         132 1995-03-01    Mar  1995\n",
       "3  1995-04-01         129 1995-04-01    Apr  1995\n",
       "4  1995-05-01         121 1995-05-01    May  1995\n",
       "..        ...         ...        ...    ...   ...\n",
       "91 2002-08-01         405 2002-08-01    Aug  2002\n",
       "92 2002-09-01         355 2002-09-01    Sep  2002\n",
       "93 2002-10-01         306 2002-10-01    Oct  2002\n",
       "94 2002-11-01         271 2002-11-01    Nov  2002\n",
       "95 2002-12-01         306 2002-12-01    Dec  2002\n",
       "\n",
       "[96 rows x 5 columns]"
      ]
     },
     "execution_count": 10,
     "metadata": {},
     "output_type": "execute_result"
    }
   ],
   "source": [
    "airline"
   ]
  },
  {
   "cell_type": "code",
   "execution_count": 11,
   "id": "615b5c9a",
   "metadata": {},
   "outputs": [
    {
     "data": {
      "text/plain": [
       "<AxesSubplot:xlabel='Month', ylabel='Year'>"
      ]
     },
     "execution_count": 11,
     "metadata": {},
     "output_type": "execute_result"
    },
    {
     "data": {
      "image/png": "[encoded data removed]",
      "text/plain": [
       "<Figure size 864x576 with 2 Axes>"
      ]
     },
     "metadata": {
      "needs_background": "light"
     },
     "output_type": "display_data"
    }
   ],
   "source": [
    "# Heatmap\n",
    "plt.figure(figsize=(12,8))\n",
    "heatmap_y_month = pd.pivot_table(data=airline,values='Passengers',index='Year',columns='Month',aggfunc='mean',fill_value=0)\n",
    "sns.heatmap(heatmap_y_month,annot=True,fmt='g') # fmt is format of the grid values"
   ]
  },
  {
   "cell_type": "code",
   "execution_count": 12,
   "id": "c07b2a46",
   "metadata": {},
   "outputs": [
    {
     "data": {
      "text/plain": [
       "<AxesSubplot:xlabel='Year', ylabel='Passengers'>"
      ]
     },
     "execution_count": 12,
     "metadata": {},
     "output_type": "execute_result"
    },
    {
     "data": {
      "image/png": "[encoded data removed]",
      "text/plain": [
       "<Figure size 576x432 with 2 Axes>"
      ]
     },
     "metadata": {
      "needs_background": "light"
     },
     "output_type": "display_data"
    }
   ],
   "source": [
    "# Boxplot \n",
    "plt.figure(figsize=(8,6))\n",
    "plt.subplot(211)\n",
    "sns.boxplot(x='Months',y='Passengers',data=airline)\n",
    "plt.subplot(212)\n",
    "sns.boxplot(x='Year',y='Passengers', data=airline)"
   ]
  },
  {
   "cell_type": "code",
   "execution_count": 13,
   "id": "1e97ad3f",
   "metadata": {},
   "outputs": [],
   "source": [
    "#Preparing dummies\n",
    "Month_Dummies= pd.DataFrame(pd.get_dummies(airline['Months']))\n",
    "airline1 = pd.concat([airline,Month_Dummies],axis =1)"
   ]
  },
  {
   "cell_type": "code",
   "execution_count": 14,
   "id": "c8e7f1a4",
   "metadata": {},
   "outputs": [],
   "source": [
    "airline1[\"t\"] = np.arange(1,97)\n",
    "airline1[\"t_squared\"] = airline1[\"t\"] * airline1[\"t\"]\n",
    "airline1[\"Log_Passengers\"] = np.log(airline1[\"Passengers\"])"
   ]
  },
  {
   "cell_type": "code",
   "execution_count": 15,
   "id": "2bdfaed5",
   "metadata": {},
   "outputs": [
    {
     "data": {
      "text/plain": [
       "<AxesSubplot:xlabel='Year', ylabel='Passengers'>"
      ]
     },
     "execution_count": 15,
     "metadata": {},
     "output_type": "execute_result"
    },
    {
     "data": {
      "image/png": "[encoded data removed]",
      "text/plain": [
       "<Figure size 864x216 with 1 Axes>"
      ]
     },
     "metadata": {
      "needs_background": "light"
     },
     "output_type": "display_data"
    }
   ],
   "source": [
    "plt.figure(figsize=(12,3))\n",
    "sns.lineplot(x='Year', y='Passengers', data=airline)"
   ]
  },
  {
   "cell_type": "code",
   "execution_count": 16,
   "id": "74afd851",
   "metadata": {},
   "outputs": [],
   "source": [
    "#Splitting data\n",
    "Train = airline1.head(80)\n",
    "Test = airline1.tail(16)"
   ]
  },
  {
   "cell_type": "code",
   "execution_count": 17,
   "id": "9fcd5c92",
   "metadata": {},
   "outputs": [
    {
     "data": {
      "text/plain": [
       "47.542624067726734"
      ]
     },
     "execution_count": 17,
     "metadata": {},
     "output_type": "execute_result"
    }
   ],
   "source": [
    "#Linear Model\n",
    "import statsmodels.formula.api as smf\n",
    "\n",
    "linear_model = smf.ols('Passengers~t', data=Train).fit()\n",
    "pred_linear = pd.Series(linear_model.predict(pd.DataFrame(Test['t'])))\n",
    "rmse_linear = np.sqrt(np.mean((np.array(Test['Passengers'])- np.array(pred_linear))**2))\n",
    "rmse_linear"
   ]
  },
  {
   "cell_type": "code",
   "execution_count": 18,
   "id": "9eb3559f",
   "metadata": {},
   "outputs": [
    {
     "data": {
      "text/plain": [
       "43.79373939334317"
      ]
     },
     "execution_count": 18,
     "metadata": {},
     "output_type": "execute_result"
    }
   ],
   "source": [
    "#Exponential Model\n",
    "Exp = smf.ols('Log_Passengers~t', data = Train).fit()\n",
    "pred_Exp = pd.Series(Exp.predict(pd.DataFrame(Test['t'])))\n",
    "rmse_Exp = np.sqrt(np.mean((np.array(Test['Passengers'])- np.array(np.exp(pred_Exp)))**2))\n",
    "rmse_Exp"
   ]
  },
  {
   "cell_type": "code",
   "execution_count": 19,
   "id": "bb2d9aad",
   "metadata": {},
   "outputs": [
    {
     "data": {
      "text/plain": [
       "43.65440369584248"
      ]
     },
     "execution_count": 19,
     "metadata": {},
     "output_type": "execute_result"
    }
   ],
   "source": [
    "#Quadratic Model\n",
    "Quad = smf.ols('Passengers~t+t_squared',data=Train).fit()\n",
    "pred_Quad = pd.Series(Quad.predict(Test[['t','t_squared']]))\n",
    "rmse_Quad = np.sqrt(np.mean((np.array(Test['Passengers'])-np.array(pred_Quad))**2))\n",
    "rmse_Quad"
   ]
  },
  {
   "cell_type": "code",
   "execution_count": 20,
   "id": "0f962309",
   "metadata": {},
   "outputs": [
    {
     "data": {
      "text/plain": [
       "129.26647641443313"
      ]
     },
     "execution_count": 20,
     "metadata": {},
     "output_type": "execute_result"
    }
   ],
   "source": [
    "#Additive seasonality\n",
    "add_sea = smf.ols('Passengers~Jan+Feb+Mar+Apr+May+Jun+Jul+Aug+Sep+Oct+Nov', data=Train).fit()\n",
    "pred_add_sea = pd.Series(add_sea.predict(Test[['Jan','Feb','Mar','Apr','May','Jun','Jul','Aug','Sep','Oct','Nov']]))\n",
    "rmse_add_sea = np.sqrt(np.mean((np.array(Test['Passengers'])- np.array(pred_add_sea))**2))\n",
    "rmse_add_sea"
   ]
  },
  {
   "cell_type": "code",
   "execution_count": 21,
   "id": "bce5f686",
   "metadata": {},
   "outputs": [
    {
     "data": {
      "text/plain": [
       "23.91098357010659"
      ]
     },
     "execution_count": 21,
     "metadata": {},
     "output_type": "execute_result"
    }
   ],
   "source": [
    "#Additive Seasonality quadratic\n",
    "add_sea_Quad = smf.ols('Passengers~t+t_squared+Jan+Feb+Mar+Apr+May+Jun+Jul+Aug+Sep+Oct+Nov',data=Train).fit()\n",
    "pred_add_sea_quad = pd.Series(add_sea_Quad.predict(Test[['Jan','Feb','Mar','Apr','May','Jun','Jul','Aug','Sep','Oct','Nov','t','t_squared']]))\n",
    "rmse_add_sea_quad = np.sqrt(np.mean((np.array(Test['Passengers'])-np.array(pred_add_sea_quad))**2))\n",
    "rmse_add_sea_quad"
   ]
  },
  {
   "cell_type": "code",
   "execution_count": 22,
   "id": "fca4cc82",
   "metadata": {},
   "outputs": [
    {
     "data": {
      "text/plain": [
       "135.3264841462111"
      ]
     },
     "execution_count": 22,
     "metadata": {},
     "output_type": "execute_result"
    }
   ],
   "source": [
    "#Multiplicative Seasonality\n",
    "Mul_sea = smf.ols('Log_Passengers~Jan+Feb+Mar+Apr+May+Jun+Jul+Aug+Sep+Oct+Nov', data=Train).fit()\n",
    "pred_Mult_sea = pd.Series(Mul_sea.predict(Test))\n",
    "rmse_Mult_sea = np.sqrt(np.mean((np.array(Test['Passengers'])-np.array(np.exp(pred_Mult_sea)))**2))\n",
    "rmse_Mult_sea"
   ]
  },
  {
   "cell_type": "code",
   "execution_count": 23,
   "id": "cbfd2d4b",
   "metadata": {},
   "outputs": [
    {
     "data": {
      "text/plain": [
       "9.469000230303608"
      ]
     },
     "execution_count": 23,
     "metadata": {},
     "output_type": "execute_result"
    }
   ],
   "source": [
    "#Multiplicative Additive Seasonality\n",
    "Mul_Add_sea = smf.ols('Log_Passengers~t+Jan+Feb+Mar+Apr+May+Jun+Jul+Aug+Sep+Oct+Nov',data=Train).fit()\n",
    "pred_Mult_add_sea = pd.Series(Mul_Add_sea.predict(Test))\n",
    "rmse_Mult_add_sea = np.sqrt(np.mean((np.array(Test['Passengers'])-np.array(np.exp(pred_Mult_add_sea)))**2))\n",
    "rmse_Mult_add_sea"
   ]
  },
  {
   "cell_type": "code",
   "execution_count": 24,
   "id": "02b8456f",
   "metadata": {},
   "outputs": [
    {
     "data": {
      "text/html": [
       "<div>\n",
       "<style scoped>\n",
       "    .dataframe tbody tr th:only-of-type {\n",
       "        vertical-align: middle;\n",
       "    }\n",
       "\n",
       "    .dataframe tbody tr th {\n",
       "        vertical-align: top;\n",
       "    }\n",
       "\n",
       "    .dataframe thead th {\n",
       "        text-align: right;\n",
       "    }\n",
       "</style>\n",
       "<table border=\"1\" class=\"dataframe\">\n",
       "  <thead>\n",
       "    <tr style=\"text-align: right;\">\n",
       "      <th></th>\n",
       "      <th>Model</th>\n",
       "      <th>RMSE_Values</th>\n",
       "    </tr>\n",
       "  </thead>\n",
       "  <tbody>\n",
       "    <tr>\n",
       "      <th>6</th>\n",
       "      <td>rmse_Mult_add_sea</td>\n",
       "      <td>9.469000</td>\n",
       "    </tr>\n",
       "    <tr>\n",
       "      <th>4</th>\n",
       "      <td>rmse_add_sea_quad</td>\n",
       "      <td>23.910984</td>\n",
       "    </tr>\n",
       "    <tr>\n",
       "      <th>2</th>\n",
       "      <td>rmse_Quad</td>\n",
       "      <td>43.654404</td>\n",
       "    </tr>\n",
       "    <tr>\n",
       "      <th>1</th>\n",
       "      <td>rmse_Exp</td>\n",
       "      <td>43.793739</td>\n",
       "    </tr>\n",
       "    <tr>\n",
       "      <th>0</th>\n",
       "      <td>rmse_linear</td>\n",
       "      <td>47.542624</td>\n",
       "    </tr>\n",
       "    <tr>\n",
       "      <th>3</th>\n",
       "      <td>rmse_add_sea</td>\n",
       "      <td>129.266476</td>\n",
       "    </tr>\n",
       "    <tr>\n",
       "      <th>5</th>\n",
       "      <td>rmse_Mult_sea</td>\n",
       "      <td>135.326484</td>\n",
       "    </tr>\n",
       "  </tbody>\n",
       "</table>\n",
       "</div>"
      ],
      "text/plain": [
       "               Model  RMSE_Values\n",
       "6  rmse_Mult_add_sea     9.469000\n",
       "4  rmse_add_sea_quad    23.910984\n",
       "2          rmse_Quad    43.654404\n",
       "1           rmse_Exp    43.793739\n",
       "0        rmse_linear    47.542624\n",
       "3       rmse_add_sea   129.266476\n",
       "5      rmse_Mult_sea   135.326484"
      ]
     },
     "execution_count": 24,
     "metadata": {},
     "output_type": "execute_result"
    }
   ],
   "source": [
    "#Tabulating the rmse values\n",
    "data= {'Model':pd.Series(['rmse_linear','rmse_Exp','rmse_Quad','rmse_add_sea','rmse_add_sea_quad','rmse_Mult_sea','rmse_Mult_add_sea']),'RMSE_Values':pd.Series([rmse_linear,rmse_Exp,rmse_Quad,rmse_add_sea,rmse_add_sea_quad,rmse_Mult_sea,rmse_Mult_add_sea])}\n",
    "table_rmse = pd.DataFrame(data)\n",
    "table_rmse.sort_values(['RMSE_Values'])"
   ]
  },
  {
   "cell_type": "markdown",
   "id": "91895cb9",
   "metadata": {},
   "source": [
    "# Conclusion:- From the above rmse values (rmse_Mult_ADD_sea - 9.469 ) is the best fit model"
   ]
  },
  {
   "cell_type": "code",
   "execution_count": 25,
   "id": "80a700f5",
   "metadata": {},
   "outputs": [
    {
     "data": {
      "text/html": [
       "<div>\n",
       "<style scoped>\n",
       "    .dataframe tbody tr th:only-of-type {\n",
       "        vertical-align: middle;\n",
       "    }\n",
       "\n",
       "    .dataframe tbody tr th {\n",
       "        vertical-align: top;\n",
       "    }\n",
       "\n",
       "    .dataframe thead th {\n",
       "        text-align: right;\n",
       "    }\n",
       "</style>\n",
       "<table border=\"1\" class=\"dataframe\">\n",
       "  <thead>\n",
       "    <tr style=\"text-align: right;\">\n",
       "      <th></th>\n",
       "      <th>Date</th>\n",
       "      <th>Months</th>\n",
       "    </tr>\n",
       "  </thead>\n",
       "  <tbody>\n",
       "    <tr>\n",
       "      <th>0</th>\n",
       "      <td>2003-01-01</td>\n",
       "      <td>Jan</td>\n",
       "    </tr>\n",
       "    <tr>\n",
       "      <th>1</th>\n",
       "      <td>2003-02-01</td>\n",
       "      <td>Feb</td>\n",
       "    </tr>\n",
       "    <tr>\n",
       "      <th>2</th>\n",
       "      <td>2003-03-01</td>\n",
       "      <td>Mar</td>\n",
       "    </tr>\n",
       "    <tr>\n",
       "      <th>3</th>\n",
       "      <td>2003-04-01</td>\n",
       "      <td>Apr</td>\n",
       "    </tr>\n",
       "    <tr>\n",
       "      <th>4</th>\n",
       "      <td>2003-05-01</td>\n",
       "      <td>May</td>\n",
       "    </tr>\n",
       "    <tr>\n",
       "      <th>5</th>\n",
       "      <td>2003-06-01</td>\n",
       "      <td>Jun</td>\n",
       "    </tr>\n",
       "    <tr>\n",
       "      <th>6</th>\n",
       "      <td>2003-07-01</td>\n",
       "      <td>Jul</td>\n",
       "    </tr>\n",
       "    <tr>\n",
       "      <th>7</th>\n",
       "      <td>2003-08-01</td>\n",
       "      <td>Aug</td>\n",
       "    </tr>\n",
       "    <tr>\n",
       "      <th>8</th>\n",
       "      <td>2003-09-01</td>\n",
       "      <td>Sep</td>\n",
       "    </tr>\n",
       "    <tr>\n",
       "      <th>9</th>\n",
       "      <td>2003-10-01</td>\n",
       "      <td>Oct</td>\n",
       "    </tr>\n",
       "    <tr>\n",
       "      <th>10</th>\n",
       "      <td>2003-11-01</td>\n",
       "      <td>Nov</td>\n",
       "    </tr>\n",
       "    <tr>\n",
       "      <th>11</th>\n",
       "      <td>2003-12-01</td>\n",
       "      <td>Dec</td>\n",
       "    </tr>\n",
       "  </tbody>\n",
       "</table>\n",
       "</div>"
      ],
      "text/plain": [
       "          Date Months\n",
       "0   2003-01-01    Jan\n",
       "1   2003-02-01    Feb\n",
       "2   2003-03-01    Mar\n",
       "3   2003-04-01    Apr\n",
       "4   2003-05-01    May\n",
       "5   2003-06-01    Jun\n",
       "6   2003-07-01    Jul\n",
       "7   2003-08-01    Aug\n",
       "8   2003-09-01    Sep\n",
       "9   2003-10-01    Oct\n",
       "10  2003-11-01    Nov\n",
       "11  2003-12-01    Dec"
      ]
     },
     "execution_count": 25,
     "metadata": {},
     "output_type": "execute_result"
    }
   ],
   "source": [
    "# Forecasting using Multiplicative Additive Seasonality Model\n",
    "# Forecasting for next 12 months\n",
    "data = [['2003-01-01','Jan'],['2003-02-01','Feb'],['2003-03-01','Mar'],['2003-04-01','Apr'],['2003-05-01','May'],['2003-06-01','Jun'],['2003-07-01','Jul'],['2003-08-01','Aug'],['2003-09-01','Sep'],['2003-10-01','Oct'],['2003-11-01','Nov'],['2003-12-01','Dec']]\n",
    "# Print(data)\n",
    "forecast = pd.DataFrame(data,columns = ['Date','Months'])\n",
    "forecast"
   ]
  },
  {
   "cell_type": "code",
   "execution_count": 26,
   "id": "8b691955",
   "metadata": {},
   "outputs": [
    {
     "name": "stdout",
     "output_type": "stream",
     "text": [
      "After dummy\n",
      "          Date Months  Apr  Aug  Dec  Feb  Jan  Jul  Jun  Mar  May  Nov  Oct  \\\n",
      "0  2003-01-01    Jan    0    0    0    0    1    0    0    0    0    0    0   \n",
      "1  2003-02-01    Feb    0    0    0    1    0    0    0    0    0    0    0   \n",
      "2  2003-03-01    Mar    0    0    0    0    0    0    0    1    0    0    0   \n",
      "3  2003-04-01    Apr    1    0    0    0    0    0    0    0    0    0    0   \n",
      "4  2003-05-01    May    0    0    0    0    0    0    0    0    1    0    0   \n",
      "\n",
      "   Sep  \n",
      "0    0  \n",
      "1    0  \n",
      "2    0  \n",
      "3    0  \n",
      "4    0  \n",
      "\n",
      "After T and T-Squared\n",
      "          Date Months  Apr  Aug  Dec  Feb  Jan  Jul  Jun  Mar  May  Nov  Oct  \\\n",
      "0  2003-01-01    Jan    0    0    0    0    1    0    0    0    0    0    0   \n",
      "1  2003-02-01    Feb    0    0    0    1    0    0    0    0    0    0    0   \n",
      "2  2003-03-01    Mar    0    0    0    0    0    0    0    1    0    0    0   \n",
      "3  2003-04-01    Apr    1    0    0    0    0    0    0    0    0    0    0   \n",
      "4  2003-05-01    May    0    0    0    0    0    0    0    0    1    0    0   \n",
      "\n",
      "   Sep  t  t_squared  \n",
      "0    0  1          1  \n",
      "1    0  2          4  \n",
      "2    0  3          9  \n",
      "3    0  4         16  \n",
      "4    0  5         25  \n"
     ]
    }
   ],
   "source": [
    "# Create dummies and T and T-Squared columns\n",
    "\n",
    "dummies = pd.DataFrame(pd.get_dummies(forecast['Months']))\n",
    "forecast1 = pd.concat([forecast, dummies], axis =1)\n",
    "print('After dummy\\n',forecast1.head())\n",
    "\n",
    "forecast1['t'] = np.arange(1,13)\n",
    "forecast1['t_squared'] = forecast1['t'] * forecast1['t']\n",
    "print('\\nAfter T and T-Squared\\n', forecast1.head())"
   ]
  },
  {
   "cell_type": "code",
   "execution_count": 27,
   "id": "75b6c23d",
   "metadata": {},
   "outputs": [],
   "source": [
    "# Forecasting using Multiplicative Additive Seasonality Model\n",
    "\n",
    "model_full = smf.ols('Log_Passengers~t+Jan+Feb+Mar+Apr+May+Jun+Jul+Aug+Sep+Oct+Nov+Dec',data =airline1).fit()\n",
    "pred_new  = pd.Series(model_full.predict(forecast1))\n",
    "pred_new\n",
    "\n",
    "forecast1[\"Forecasted_log\"] = pd.Series(pred_new)\n",
    "forecast1['Forecasted_Passengers'] = np.exp(forecast1['Forecasted_log'])"
   ]
  },
  {
   "cell_type": "code",
   "execution_count": 28,
   "id": "6a38ec72",
   "metadata": {},
   "outputs": [
    {
     "data": {
      "text/html": [
       "<div>\n",
       "<style scoped>\n",
       "    .dataframe tbody tr th:only-of-type {\n",
       "        vertical-align: middle;\n",
       "    }\n",
       "\n",
       "    .dataframe tbody tr th {\n",
       "        vertical-align: top;\n",
       "    }\n",
       "\n",
       "    .dataframe thead th {\n",
       "        text-align: right;\n",
       "    }\n",
       "</style>\n",
       "<table border=\"1\" class=\"dataframe\">\n",
       "  <thead>\n",
       "    <tr style=\"text-align: right;\">\n",
       "      <th></th>\n",
       "      <th>Months</th>\n",
       "      <th>Forecasted_Passengers</th>\n",
       "    </tr>\n",
       "  </thead>\n",
       "  <tbody>\n",
       "    <tr>\n",
       "      <th>0</th>\n",
       "      <td>Jan</td>\n",
       "      <td>109.176148</td>\n",
       "    </tr>\n",
       "    <tr>\n",
       "      <th>1</th>\n",
       "      <td>Feb</td>\n",
       "      <td>110.331245</td>\n",
       "    </tr>\n",
       "    <tr>\n",
       "      <th>2</th>\n",
       "      <td>Mar</td>\n",
       "      <td>127.315234</td>\n",
       "    </tr>\n",
       "    <tr>\n",
       "      <th>3</th>\n",
       "      <td>Apr</td>\n",
       "      <td>123.200587</td>\n",
       "    </tr>\n",
       "    <tr>\n",
       "      <th>4</th>\n",
       "      <td>May</td>\n",
       "      <td>122.399578</td>\n",
       "    </tr>\n",
       "    <tr>\n",
       "      <th>5</th>\n",
       "      <td>Jun</td>\n",
       "      <td>138.536397</td>\n",
       "    </tr>\n",
       "    <tr>\n",
       "      <th>6</th>\n",
       "      <td>Jul</td>\n",
       "      <td>154.066959</td>\n",
       "    </tr>\n",
       "    <tr>\n",
       "      <th>7</th>\n",
       "      <td>Aug</td>\n",
       "      <td>153.741209</td>\n",
       "    </tr>\n",
       "    <tr>\n",
       "      <th>8</th>\n",
       "      <td>Sep</td>\n",
       "      <td>137.693733</td>\n",
       "    </tr>\n",
       "    <tr>\n",
       "      <th>9</th>\n",
       "      <td>Oct</td>\n",
       "      <td>120.894736</td>\n",
       "    </tr>\n",
       "    <tr>\n",
       "      <th>10</th>\n",
       "      <td>Nov</td>\n",
       "      <td>106.109309</td>\n",
       "    </tr>\n",
       "    <tr>\n",
       "      <th>11</th>\n",
       "      <td>Dec</td>\n",
       "      <td>121.633998</td>\n",
       "    </tr>\n",
       "  </tbody>\n",
       "</table>\n",
       "</div>"
      ],
      "text/plain": [
       "   Months  Forecasted_Passengers\n",
       "0     Jan             109.176148\n",
       "1     Feb             110.331245\n",
       "2     Mar             127.315234\n",
       "3     Apr             123.200587\n",
       "4     May             122.399578\n",
       "5     Jun             138.536397\n",
       "6     Jul             154.066959\n",
       "7     Aug             153.741209\n",
       "8     Sep             137.693733\n",
       "9     Oct             120.894736\n",
       "10    Nov             106.109309\n",
       "11    Dec             121.633998"
      ]
     },
     "execution_count": 28,
     "metadata": {},
     "output_type": "execute_result"
    }
   ],
   "source": [
    "# Final Prediction \n",
    "\n",
    "Final_predict = forecast1.loc[:, ['Months','Forecasted_Passengers']]\n",
    "Final_predict"
   ]
  },
  {
   "cell_type": "code",
   "execution_count": null,
   "id": "b4177913",
   "metadata": {},
   "outputs": [],
   "source": []
  }
 ],
 "metadata": {
  "kernelspec": {
   "display_name": "Python 3 (ipykernel)",
   "language": "python",
   "name": "python3"
  },
  "language_info": {
   "codemirror_mode": {
    "name": "ipython",
    "version": 3
   },
   "file_extension": ".py",
   "mimetype": "text/x-python",
   "name": "python",
   "nbconvert_exporter": "python",
   "pygments_lexer": "ipython3",
   "version": "3.9.7"
  }
 },
 "nbformat": 4,
 "nbformat_minor": 5
}
